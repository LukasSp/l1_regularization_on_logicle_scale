{
 "cells": [
  {
   "cell_type": "markdown",
   "metadata": {
    "collapsed": true
   },
   "source": [
    "# Logicle Scale"
   ]
  },
  {
   "cell_type": "markdown",
   "metadata": {},
   "source": [
    "In this norebook we introduce the logicle scale and show how it can be applied."
   ]
  },
  {
   "cell_type": "markdown",
   "metadata": {},
   "source": [
    "### 1) What is the logicle scale?"
   ]
  },
  {
   "cell_type": "markdown",
   "metadata": {},
   "source": [
    "The logicle scale was introduced in 2006 by Parks and Moore in their paper \"A new \"Logicle\" display method avoids deceptive effects of logarithmic scaling for low signals and compensated data\" and it is used for describing cytometry data. In 2012 they updated the logicle scale in the paper \"Update for the Logicle Data Scale Including Operational Code Implementations\". The logicle scale is linear around 0 and devolves than smoothly in a logarithmic function for increasing parameter values. Moreover, the interval is transformed to the unit intervall [0,1].\n",
    "\n",
    "To make the logicle scale also applicable to parameter estimation we coded a wrapper around the original implementation. However, it is also possible to use the original way to define the logicle scale (see the end of this notebook)."
   ]
  },
  {
   "cell_type": "markdown",
   "metadata": {},
   "source": [
    "The logicle scale has two input parameters:\n",
    "\n",
    "- T: T defines the top of the scale, this means T is transformed to 1. T should be your upper parameter bound.\n",
    "\n",
    "- end_lin: end_lin defines the rough linear end of your parameter space. The optimization performance depence strongly on the right choice of end_lin. A good first guess might be end_lin=1e-5."
   ]
  },
  {
   "cell_type": "markdown",
   "metadata": {},
   "source": [
    "### 2) How to use the logicle scale"
   ]
  },
  {
   "cell_type": "code",
   "execution_count": 2,
   "metadata": {},
   "outputs": [],
   "source": [
    "import numpy as np\n",
    "import matplotlib.pyplot as plt\n",
    "\n",
    "import sys\n",
    "sys.path.insert(0, '/Users/lukas.spoegler/PycharmProjects/logicle_scale')\n",
    "\n",
    "from LogicleScale import logicleTransform, \\\n",
    "                         logicleInverseTransform, \\\n",
    "                         logicleGradient, \\\n",
    "                         logicleInverseGradient\n"
   ]
  },
  {
   "cell_type": "code",
   "execution_count": 3,
   "metadata": {},
   "outputs": [],
   "source": [
    "# define your parameter space\n",
    "par = np.linspace(0,1e3,10**7)"
   ]
  },
  {
   "cell_type": "code",
   "execution_count": 4,
   "metadata": {},
   "outputs": [],
   "source": [
    "# define the two input parameters\n",
    "T = max(par)\n",
    "end_lin = 1e-1"
   ]
  },
  {
   "cell_type": "code",
   "execution_count": 5,
   "metadata": {},
   "outputs": [],
   "source": [
    "# transform your parameters\n",
    "par_logicle = logicleTransform(par=par, T=T, end_lin=end_lin)"
   ]
  },
  {
   "cell_type": "markdown",
   "metadata": {},
   "source": [
    "The ouput is a 2d array. The first input (par_logicle[0]) is the transformed logicle parameter. The second input (par_logicle[1]) is a logicle object, which contains all parameter T, W, M, A, end_lin and which are used for the transformation. This becomes usefull when you need to backtransform your data. However, such an logicle object can also be achived by:"
   ]
  },
  {
   "cell_type": "code",
   "execution_count": 16,
   "metadata": {},
   "outputs": [
    {
     "name": "stdout",
     "output_type": "stream",
     "text": [
      "T =  1000.0\n",
      "W =  0.5\n",
      "M =  5.126417242364646\n",
      "A =  -0.5\n",
      "end lin =  0.1\n"
     ]
    }
   ],
   "source": [
    "logicle_object = LogicleScale.LogicleObject(T=T, end_lin=end_lin)\n",
    "\n",
    "print('T = ', logicle_object.get_T)\n",
    "print('W = ', logicle_object.get_W())\n",
    "print('M = ', logicle_object.get_M())\n",
    "print('A = ', logicle_object.get_A())\n",
    "print('end lin = ', logicle_object.get_end_lin())"
   ]
  },
  {
   "cell_type": "code",
   "execution_count": 21,
   "metadata": {},
   "outputs": [
    {
     "name": "stdout",
     "output_type": "stream",
     "text": [
      "linear until:  0.1000026753219758\n"
     ]
    },
    {
     "data": {
      "image/png": "[encoded data removed]",
      "text/plain": [
       "<Figure size 432x288 with 1 Axes>"
      ]
     },
     "metadata": {
      "needs_background": "light"
     },
     "output_type": "display_data"
    }
   ],
   "source": [
    "# visualize\n",
    "\n",
    "# the transition indicates the point where the logicle scale goes from linear to logarithmic\n",
    "W = par_logicle[1].get_W()\n",
    "M = par_logicle[1].get_M()\n",
    "transition_point = np.array([W/(M-W)])\n",
    "\n",
    "transition = logicleInverseTransform(transition_point, par_logicle[1])\n",
    "\n",
    "# this value should be the same as we defined in end_lin\n",
    "print('linear until: ', transition[0])\n",
    "\n",
    "plt.plot(par, par_logicle[0])\n",
    "plt.vlines(transition, 0, 1, color='red', label='transition')\n",
    "plt.xlabel(\"parameter\")\n",
    "plt.ylabel(\"logicle parameter\")\n",
    "plt.xscale('log')\n",
    "plt.xlim(1e-9,1e3)\n",
    "plt.legend()\n",
    "plt.show()"
   ]
  },
  {
   "cell_type": "markdown",
   "metadata": {},
   "source": [
    "Try with another endpoint of the linear range:"
   ]
  },
  {
   "cell_type": "code",
   "execution_count": 23,
   "metadata": {},
   "outputs": [
    {
     "name": "stdout",
     "output_type": "stream",
     "text": [
      "linear until:  0.0010000001029223673\n"
     ]
    },
    {
     "data": {
      "image/png": "[encoded data removed]",
      "text/plain": [
       "<Figure size 432x288 with 1 Axes>"
      ]
     },
     "metadata": {
      "needs_background": "light"
     },
     "output_type": "display_data"
    }
   ],
   "source": [
    "# change the parameter\n",
    "end_lin = 1e-3\n",
    "\n",
    "# transform your data\n",
    "par_logicle = logicleTransform(par=par, T=T, end_lin=end_lin)\n",
    "\n",
    "# the transition calculates the point where the logicle scale goes from linear to logarithmic\n",
    "W = par_logicle[1].get_W()\n",
    "M = par_logicle[1].get_M()\n",
    "transition_point = np.array([W/(M-W)])\n",
    "\n",
    "transition = logicleInverseTransform(transition_point, par_logicle[1])\n",
    "\n",
    "# this value should be the same as defined in start_log\n",
    "print('linear until: ', transition[0])\n",
    "\n",
    "# display the logicle data\n",
    "plt.plot(par, par_logicle[0])\n",
    "plt.vlines(transition, 0, 1, color='red', label='transition')\n",
    "plt.xlabel(\"parameter\")\n",
    "plt.ylabel(\"logicle parameter\")\n",
    "plt.xscale('log')\n",
    "plt.xlim(1e-9,1e3)\n",
    "plt.legend()\n",
    "plt.show()"
   ]
  },
  {
   "cell_type": "markdown",
   "metadata": {},
   "source": [
    "### Compute the inverse of the logicle scale"
   ]
  },
  {
   "cell_type": "code",
   "execution_count": 9,
   "metadata": {},
   "outputs": [],
   "source": [
    "# compute the inverse\n",
    "inv_par_logicle = logicleInverseTransform(par=par_logicle[0], logicle_object=par_logicle[1])"
   ]
  },
  {
   "cell_type": "code",
   "execution_count": 10,
   "metadata": {},
   "outputs": [
    {
     "data": {
      "image/png": "[encoded data removed]",
      "text/plain": [
       "<Figure size 432x288 with 1 Axes>"
      ]
     },
     "metadata": {
      "needs_background": "light"
     },
     "output_type": "display_data"
    }
   ],
   "source": [
    "# we should get our data from the start again\n",
    "# plot the difference of the transformed and backtransformed data and the start data\n",
    "\n",
    "# difference between original data and back transformed data\n",
    "diff = np.abs(inv_par_logicle - par)\n",
    "\n",
    "plt.plot(diff)\n",
    "plt.xlabel('parameter')\n",
    "plt.ylabel('difference')\n",
    "plt.show()"
   ]
  },
  {
   "cell_type": "markdown",
   "metadata": {},
   "source": [
    "### Compute the gradient of the logicle scale\n",
    "\n",
    "The gradient gets computet with center finite differences with stepsize equal to 1e-5"
   ]
  },
  {
   "cell_type": "code",
   "execution_count": 11,
   "metadata": {},
   "outputs": [],
   "source": [
    "# compute gradient\n",
    "logicle_gradient = logicleGradient(par, par_logicle[1])"
   ]
  },
  {
   "cell_type": "code",
   "execution_count": 12,
   "metadata": {},
   "outputs": [
    {
     "name": "stdout",
     "output_type": "stream",
     "text": [
      "84.35999806387858\n"
     ]
    },
    {
     "data": {
      "image/png": "[encoded data removed]",
      "text/plain": [
       "<Figure size 432x288 with 1 Axes>"
      ]
     },
     "metadata": {
      "needs_background": "light"
     },
     "output_type": "display_data"
    }
   ],
   "source": [
    "print(logicle_gradient[0])\n",
    "\n",
    "# display logicle gradient\n",
    "plt.plot(parameter, logicle_gradient)\n",
    "plt.show()"
   ]
  },
  {
   "cell_type": "markdown",
   "metadata": {},
   "source": [
    "Remark: The gradient resembles 1/x which is the gradient of log(x), which makes totally sense. But in contrast, the gradient of the logicle scale is well defined for 0."
   ]
  },
  {
   "cell_type": "markdown",
   "metadata": {},
   "source": [
    "### Compute the inverse gradient of the logicle scale\n",
    "\n",
    "The inverse gradient can be calculated analytical."
   ]
  },
  {
   "cell_type": "code",
   "execution_count": 24,
   "metadata": {},
   "outputs": [],
   "source": [
    "# compute inverse gradient\n",
    "logicle__inv_gradient = logicleInverseGradient(par, par_logicle[1])"
   ]
  },
  {
   "cell_type": "markdown",
   "metadata": {},
   "source": [
    "### *Additional information\n",
    "\n",
    "The original definition of the logicle scale has 4 input parameters:\n",
    "\n",
    "- T: Top of the scale\n",
    "- W: W defines the width of the linear range in $\\log_{10}$ decades. If negative data is given it can be estimated from the data. \n",
    "- M: M defines the width of the log portion of the display in $\\log_{10}$ decades.\n",
    "- A: A defines the additional decades of negative data values.\n",
    "\n",
    "    \n",
    "So its also possible to transform your data with:"
   ]
  },
  {
   "cell_type": "code",
   "execution_count": 25,
   "metadata": {},
   "outputs": [],
   "source": [
    "par_logicle = logicleTransform(par=par, T=1000, W=0.5, M=4.5, A=0.0)"
   ]
  },
  {
   "cell_type": "code",
   "execution_count": null,
   "metadata": {},
   "outputs": [],
   "source": []
  }
 ],
 "metadata": {
  "kernelspec": {
   "display_name": "Python 3",
   "language": "python",
   "name": "python3"
  },
  "language_info": {
   "codemirror_mode": {
    "name": "ipython",
    "version": 3
   },
   "file_extension": ".py",
   "mimetype": "text/x-python",
   "name": "python",
   "nbconvert_exporter": "python",
   "pygments_lexer": "ipython3",
   "version": "3.6.7"
  }
 },
 "nbformat": 4,
 "nbformat_minor": 1
}
